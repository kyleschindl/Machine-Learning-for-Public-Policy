{
 "cells": [
  {
   "cell_type": "markdown",
   "metadata": {},
   "source": [
    "# Homework 1 - Diagnostic\n",
    "### Machine Learning for Public Policy\n",
    "#### Kyle Schindl"
   ]
  },
  {
   "cell_type": "markdown",
   "metadata": {},
   "source": [
    "## Data Acquisition and Analysis:"
   ]
  },
  {
   "cell_type": "code",
   "execution_count": 1,
   "metadata": {},
   "outputs": [],
   "source": [
    "import pandas as pd\n",
    "from sodapy import Socrata\n",
    "import datetime as dt\n",
    "import matplotlib.pyplot as plt\n",
    "import numpy as np"
   ]
  },
  {
   "cell_type": "code",
   "execution_count": 2,
   "metadata": {},
   "outputs": [
    {
     "name": "stderr",
     "output_type": "stream",
     "text": [
      "WARNING:root:Requests made without an app_token will be subject to strict throttling limits.\n"
     ]
    }
   ],
   "source": [
    "'''\n",
    "We use the Socrata Open Data API for downloading crime data in Chicago\n",
    "filtering for crimes ocurring in 2017 and 2018\n",
    "'''\n",
    "\n",
    "client = Socrata(\"data.cityofchicago.org\", None)\n",
    "results = client.get(\"6zsd-86xi\", where=\"date between '2017-01-01T00:00:00' and '2018-12-31T23:59:59'\", limit=600000)\n",
    "crime = pd.DataFrame.from_records(results)\n",
    "crime.date = pd.to_datetime(crime.date)"
   ]
  },
  {
   "cell_type": "code",
   "execution_count": 3,
   "metadata": {},
   "outputs": [],
   "source": [
    "'''\n",
    "Next, in order to better interpret the results we use the SODA API\n",
    "to create a dictionary mapping the community area int to its\n",
    "corresponding neighborhood name. Note that there are three extraneous\n",
    "community areas labeled '0' in the original dataset, which we map to\n",
    "O'Hare, based on the address of the incident.\n",
    "'''\n",
    "\n",
    "neighborhoods = client.get(\"igwz-8jzy\", select=\"AREA_NUMBE, COMMUNITY\")\n",
    "neighborhood_dict = pd.DataFrame.from_records(neighborhoods, index=\"AREA_NUMBE\").to_dict()[\"COMMUNITY\"]\n",
    "neighborhood_dict['0'] = \"OHARE\"\n",
    "crime.community_area = crime.community_area.replace(neighborhood_dict)"
   ]
  },
  {
   "cell_type": "code",
   "execution_count": 4,
   "metadata": {},
   "outputs": [
    {
     "data": {
      "text/plain": [
       "date  description                        \n",
       "2017  SIMPLE                                 29076\n",
       "      $500 AND UNDER                         24514\n",
       "      DOMESTIC BATTERY SIMPLE                23818\n",
       "      OVER $500                              15347\n",
       "      TO VEHICLE                             14547\n",
       "      TO PROPERTY                            13842\n",
       "      FROM BUILDING                          10661\n",
       "      RETAIL THEFT                           10459\n",
       "      AUTOMOBILE                              9855\n",
       "      FORCIBLE ENTRY                          7506\n",
       "      FINANCIAL IDENTITY THEFT OVER $ 300     5016\n",
       "      AGGRAVATED: HANDGUN                     4996\n",
       "      UNLAWFUL ENTRY                          4594\n",
       "      ARMED: HANDGUN                          4549\n",
       "      CREDIT CARD FRAUD                       3937\n",
       "2018  SIMPLE                                 29680\n",
       "      $500 AND UNDER                         24794\n",
       "      DOMESTIC BATTERY SIMPLE                24259\n",
       "      OVER $500                              15226\n",
       "      TO VEHICLE                             13989\n",
       "      TO PROPERTY                            13134\n",
       "      FROM BUILDING                          10848\n",
       "      RETAIL THEFT                           10712\n",
       "      AUTOMOBILE                              8809\n",
       "      FORCIBLE ENTRY                          6640\n",
       "      CREDIT CARD FRAUD                       4808\n",
       "      AGGRAVATED: HANDGUN                     4789\n",
       "      UNLAWFUL ENTRY                          4292\n",
       "      TO LAND                                 4111\n",
       "      FINANCIAL IDENTITY THEFT OVER $ 300     4041\n",
       "Name: description, dtype: int64"
      ]
     },
     "execution_count": 4,
     "metadata": {},
     "output_type": "execute_result"
    }
   ],
   "source": [
    "'''\n",
    "To begin generating summary statistics, we check the 15 largest crimes\n",
    "for 2017 and 2018\n",
    "'''\n",
    "\n",
    "crime_groups = crime.groupby([crime.date.dt.year, \"description\"]).description.count()\n",
    "crime_groups.groupby(level=\"date\").nlargest(15).reset_index(level=0, drop=True)"
   ]
  },
  {
   "cell_type": "code",
   "execution_count": 5,
   "metadata": {},
   "outputs": [],
   "source": [
    "def check_neighborhood(dataframe, n=5, neighborhood=None):\n",
    "    '''\n",
    "    Identifies the top n crimes reported in a chosen set of neighborhoods in 2017 and 2018 for\n",
    "    comparison across time, neighborhoods. Default call will return top 5 crimes for all neighborhoods\n",
    "    \n",
    "    Inputs:\n",
    "        dataframe\n",
    "        n (int): desired top n crimes\n",
    "        neighborhood (list): list of neighborhoods to report\n",
    "\n",
    "    Returns:\n",
    "        series - top n crimes for specified neighborhoods\n",
    "    '''\n",
    "    areas = dataframe.groupby([\"community_area\", dataframe.date.dt.year, \"description\"]).description.count()\n",
    "    groups = areas.groupby([\"community_area\",\"date\"]).nlargest(n).reset_index(level=[1,2], drop=True)\n",
    "    \n",
    "    if neighborhood:\n",
    "        return groups[neighborhood]\n",
    "    \n",
    "    return groups"
   ]
  },
  {
   "cell_type": "code",
   "execution_count": 6,
   "metadata": {},
   "outputs": [
    {
     "data": {
      "text/plain": [
       "community_area  date  description            \n",
       "HYDE PARK       2017  $500 AND UNDER             227\n",
       "                      SIMPLE                     166\n",
       "                      OVER $500                  149\n",
       "                      RETAIL THEFT               120\n",
       "                      FROM BUILDING              110\n",
       "                2018  $500 AND UNDER             247\n",
       "                      TO VEHICLE                 224\n",
       "                      OVER $500                  150\n",
       "                      SIMPLE                     150\n",
       "                      RETAIL THEFT               139\n",
       "WOODLAWN        2017  DOMESTIC BATTERY SIMPLE    452\n",
       "                      SIMPLE                     426\n",
       "                      $500 AND UNDER             340\n",
       "                      TO PROPERTY                287\n",
       "                      FORCIBLE ENTRY             206\n",
       "                2018  DOMESTIC BATTERY SIMPLE    413\n",
       "                      SIMPLE                     400\n",
       "                      $500 AND UNDER             291\n",
       "                      TO PROPERTY                226\n",
       "                      TO VEHICLE                 199\n",
       "Name: description, dtype: int64"
      ]
     },
     "execution_count": 6,
     "metadata": {},
     "output_type": "execute_result"
    }
   ],
   "source": [
    "'''\n",
    "In order to begin identifying differences in crime between neighborhoods,\n",
    "we do a sample run of check_neighborhoods on Hyde Park and Woodlawn.\n",
    "'''\n",
    "check_neighborhood(crime, 5, ['HYDE PARK', 'WOODLAWN'])"
   ]
  },
  {
   "cell_type": "code",
   "execution_count": 7,
   "metadata": {},
   "outputs": [
    {
     "data": {
      "image/png": "[encoded data removed]",
      "text/plain": [
       "<Figure size 864x576 with 1 Axes>"
      ]
     },
     "metadata": {
      "needs_background": "light"
     },
     "output_type": "display_data"
    }
   ],
   "source": [
    "'''\n",
    "Next, we visualize the total number of crimes in both 2017 and 2018 by\n",
    "neighborhood, sorted from highest to lowest\n",
    "'''\n",
    "\n",
    "top_crimes_2017 = crime[crime.date.dt.year == 2017].groupby(\"community_area\").description.count().sort_values(ascending=False).head(40)\n",
    "top_crimes_2018 = crime[crime.date.dt.year == 2018].groupby(\"community_area\").description.count().sort_values(ascending=False).head(40)\n",
    "\n",
    "plt.figure(figsize=(12,8))\n",
    "plt.scatter(top_crimes_2017.index, top_crimes_2017, color='b', alpha=0.6, label=\"2017\")\n",
    "plt.scatter(top_crimes_2018.index, top_crimes_2018, color='r', alpha=0.6, label=\"2018\")\n",
    "plt.ylabel(\"Total Crimes\")\n",
    "plt.xticks(rotation=80)\n",
    "plt.legend(prop={'size': 15})\n",
    "plt.show()"
   ]
  },
  {
   "cell_type": "code",
   "execution_count": 8,
   "metadata": {},
   "outputs": [
    {
     "data": {
      "text/html": [
       "<div>\n",
       "<style scoped>\n",
       "    .dataframe tbody tr th:only-of-type {\n",
       "        vertical-align: middle;\n",
       "    }\n",
       "\n",
       "    .dataframe tbody tr th {\n",
       "        vertical-align: top;\n",
       "    }\n",
       "\n",
       "    .dataframe thead th {\n",
       "        text-align: right;\n",
       "    }\n",
       "</style>\n",
       "<table border=\"1\" class=\"dataframe\">\n",
       "  <thead>\n",
       "    <tr style=\"text-align: right;\">\n",
       "      <th>date</th>\n",
       "      <th>community_area</th>\n",
       "      <th>2017</th>\n",
       "      <th>2018</th>\n",
       "      <th>pct_change</th>\n",
       "      <th>diff</th>\n",
       "    </tr>\n",
       "  </thead>\n",
       "  <tbody>\n",
       "    <tr>\n",
       "      <th>0</th>\n",
       "      <td>ALBANY PARK</td>\n",
       "      <td>2480</td>\n",
       "      <td>2416</td>\n",
       "      <td>-2.580645</td>\n",
       "      <td>-64</td>\n",
       "    </tr>\n",
       "    <tr>\n",
       "      <th>1</th>\n",
       "      <td>ARCHER HEIGHTS</td>\n",
       "      <td>849</td>\n",
       "      <td>817</td>\n",
       "      <td>-3.769140</td>\n",
       "      <td>-32</td>\n",
       "    </tr>\n",
       "    <tr>\n",
       "      <th>2</th>\n",
       "      <td>ARMOUR SQUARE</td>\n",
       "      <td>1020</td>\n",
       "      <td>1014</td>\n",
       "      <td>-0.588235</td>\n",
       "      <td>-6</td>\n",
       "    </tr>\n",
       "    <tr>\n",
       "      <th>3</th>\n",
       "      <td>ASHBURN</td>\n",
       "      <td>2510</td>\n",
       "      <td>2405</td>\n",
       "      <td>-4.183267</td>\n",
       "      <td>-105</td>\n",
       "    </tr>\n",
       "    <tr>\n",
       "      <th>4</th>\n",
       "      <td>AUBURN GRESHAM</td>\n",
       "      <td>7527</td>\n",
       "      <td>7370</td>\n",
       "      <td>-2.085824</td>\n",
       "      <td>-157</td>\n",
       "    </tr>\n",
       "    <tr>\n",
       "      <th>5</th>\n",
       "      <td>AUSTIN</td>\n",
       "      <td>15386</td>\n",
       "      <td>15042</td>\n",
       "      <td>-2.235799</td>\n",
       "      <td>-344</td>\n",
       "    </tr>\n",
       "    <tr>\n",
       "      <th>6</th>\n",
       "      <td>AVALON PARK</td>\n",
       "      <td>1283</td>\n",
       "      <td>1162</td>\n",
       "      <td>-9.431021</td>\n",
       "      <td>-121</td>\n",
       "    </tr>\n",
       "    <tr>\n",
       "      <th>7</th>\n",
       "      <td>AVONDALE</td>\n",
       "      <td>2348</td>\n",
       "      <td>2330</td>\n",
       "      <td>-0.766610</td>\n",
       "      <td>-18</td>\n",
       "    </tr>\n",
       "    <tr>\n",
       "      <th>8</th>\n",
       "      <td>BELMONT CRAGIN</td>\n",
       "      <td>4605</td>\n",
       "      <td>4359</td>\n",
       "      <td>-5.342020</td>\n",
       "      <td>-246</td>\n",
       "    </tr>\n",
       "    <tr>\n",
       "      <th>9</th>\n",
       "      <td>BEVERLY</td>\n",
       "      <td>898</td>\n",
       "      <td>911</td>\n",
       "      <td>1.447661</td>\n",
       "      <td>13</td>\n",
       "    </tr>\n",
       "  </tbody>\n",
       "</table>\n",
       "</div>"
      ],
      "text/plain": [
       "date  community_area   2017   2018  pct_change  diff\n",
       "0        ALBANY PARK   2480   2416   -2.580645   -64\n",
       "1     ARCHER HEIGHTS    849    817   -3.769140   -32\n",
       "2      ARMOUR SQUARE   1020   1014   -0.588235    -6\n",
       "3            ASHBURN   2510   2405   -4.183267  -105\n",
       "4     AUBURN GRESHAM   7527   7370   -2.085824  -157\n",
       "5             AUSTIN  15386  15042   -2.235799  -344\n",
       "6        AVALON PARK   1283   1162   -9.431021  -121\n",
       "7           AVONDALE   2348   2330   -0.766610   -18\n",
       "8     BELMONT CRAGIN   4605   4359   -5.342020  -246\n",
       "9            BEVERLY    898    911    1.447661    13"
      ]
     },
     "execution_count": 8,
     "metadata": {},
     "output_type": "execute_result"
    }
   ],
   "source": [
    "'''\n",
    "To further investigate the change in crime between 2017 and 2018\n",
    "we calculate the percent change and difference between crimes for\n",
    "each neighborhood\n",
    "'''\n",
    "\n",
    "change = crime.groupby([crime.date.dt.year, \"community_area\"]).description.count().unstack().T.reset_index()\n",
    "change = change.rename(columns={2017: \"2017\", 2018: \"2018\"})\n",
    "change['pct_change'] = 100 * (change['2018'] - change['2017']) / change['2017']\n",
    "change['diff'] = change['2018'] - change['2017']\n",
    "change.head(10)"
   ]
  },
  {
   "cell_type": "code",
   "execution_count": 9,
   "metadata": {},
   "outputs": [
    {
     "data": {
      "text/plain": [
       "date\n",
       "pct_change    -1.055409\n",
       "diff         -18.000000\n",
       "Name: 50%, dtype: float64"
      ]
     },
     "execution_count": 9,
     "metadata": {},
     "output_type": "execute_result"
    }
   ],
   "source": [
    "'''\n",
    "We find that the median neighborhood in Chicago had a\n",
    "-1.06% decrease in crime between 2017 and 2018 and\n",
    "18 fewer crimes overall\n",
    "'''\n",
    "change.describe().loc['50%', ['pct_change', 'diff']]"
   ]
  },
  {
   "cell_type": "code",
   "execution_count": 10,
   "metadata": {},
   "outputs": [
    {
     "data": {
      "image/png": "[encoded data removed]",
      "text/plain": [
       "<Figure size 864x576 with 1 Axes>"
      ]
     },
     "metadata": {
      "needs_background": "light"
     },
     "output_type": "display_data"
    }
   ],
   "source": [
    "'''\n",
    "Visualizing the percent change in crimes for each neighborhood\n",
    "between 2017 and 2018\n",
    "'''\n",
    "\n",
    "plt.figure(figsize=(12,8))\n",
    "plt.scatter(change['pct_change'].index, change['pct_change'])\n",
    "plt.ylabel(\"percent change\")\n",
    "plt.xlabel(\"Neighborhoods\")\n",
    "plt.show()"
   ]
  },
  {
   "cell_type": "markdown",
   "metadata": {},
   "source": [
    "# *Data Augmentation and APIs:*"
   ]
  },
  {
   "cell_type": "code",
   "execution_count": 11,
   "metadata": {},
   "outputs": [],
   "source": [
    "import geopandas as gpd\n",
    "from shapely.geometry import Point, Polygon\n",
    "from census import Census\n",
    "from matplotlib import pylab"
   ]
  },
  {
   "cell_type": "code",
   "execution_count": 12,
   "metadata": {},
   "outputs": [],
   "source": [
    "'''\n",
    "Downloading data through the ACS API\n",
    "using the Census Python wrapper\n",
    "'''\n",
    "\n",
    "acs_key = \"1006a1e4567f2582e57c3affbab639c19c930271\"\n",
    "acs = Census(acs_key, year=2017)\n",
    "req = acs.acs5.get(('NAME', 'B01003_001E', 'B02001_002E', 'B02001_003E',\n",
    "                    'B02001_005E', 'B03003_003E', 'B19013_001E',\n",
    "                    'B25010_002E', 'B25010_003E'), \n",
    "                   {'for': 'block group:*', 'in': 'state:17 county:031'})\n",
    "\n",
    "demographics = pd.DataFrame(req)\n",
    "demographics = demographics.rename(columns={\n",
    "                            \"B01003_001E\": \"total_population\", \n",
    "                            \"B02001_002E\": \"white_alone\",\n",
    "                            \"B02001_003E\": \"black_alone\",\n",
    "                            \"B02001_005E\": \"asian_alone\",\n",
    "                            \"B03003_003E\": \"hispanic_latino\",\n",
    "                            \"B19013_001E\": \"median_household_income\",\n",
    "                            \"B25010_002E\": \"avg_household_size_owner\",\n",
    "                            \"B25010_003E\": \"avg_household_size_renter\"})"
   ]
  },
  {
   "cell_type": "code",
   "execution_count": 13,
   "metadata": {},
   "outputs": [],
   "source": [
    "'''\n",
    "In order to merge the crime data with the census data, we\n",
    "manually download block group shapefiles from the census website,\n",
    "in order to conduct a spatial merge between block groups and the\n",
    "given location of a crime.\n",
    "'''\n",
    "\n",
    "blocks = gpd.read_file(\"cb_2016_17_bg_500k/cb_2016_17_bg_500k.shp\")\n",
    "\n",
    "#Here we create Point objects for the spatial merge and cull\n",
    "#approximately 5,000 rows missing location data\n",
    "crime = crime[~crime.location.isnull()]\n",
    "crime['point'] = crime.location.apply(lambda x:\n",
    "                 Point(x['coordinates'][0], x['coordinates'][1]))\n",
    "\n",
    "crime = gpd.GeoDataFrame(crime, geometry='point')\n",
    "#Setting the crime crs to match the census crs\n",
    "crime.crs = {'init': 'epsg:4269'}\n",
    "crime = gpd.sjoin(crime, blocks, how='left', op='intersects')"
   ]
  },
  {
   "cell_type": "code",
   "execution_count": 14,
   "metadata": {},
   "outputs": [],
   "source": [
    "#Turning crime back into a pandas dataframe\n",
    "crime = pd.DataFrame(crime)\n",
    "\n",
    "#Now we create an block group id to merge the crime and \n",
    "#census dataframes on\n",
    "crime['bgid'] = (crime.STATEFP + crime.COUNTYFP +\n",
    "                 crime.TRACTCE + crime.BLKGRPCE)\n",
    "\n",
    "demographics['bgid'] = (demographics.state + demographics.county\n",
    "                        + demographics.tract + demographics['block group'])\n",
    "\n",
    "#removing approximately 100 rows missing block group data\n",
    "crime = crime[~crime.bgid.isnull()]\n",
    "\n",
    "crime = pd.merge(crime, demographics, how='left', on='bgid')"
   ]
  },
  {
   "cell_type": "code",
   "execution_count": 15,
   "metadata": {},
   "outputs": [],
   "source": [
    "#removing 15 rows with no demographic match\n",
    "crime = crime[~crime.total_population.isnull()]\n",
    "\n",
    "#Setting negative values representing NaNs to NaN\n",
    "mask = crime._get_numeric_data()\n",
    "mask[mask < 0] = np.nan"
   ]
  },
  {
   "cell_type": "code",
   "execution_count": 16,
   "metadata": {},
   "outputs": [],
   "source": [
    "'''\n",
    "Converting race related demographics to percentages for\n",
    "more intuitive analysis\n",
    "'''\n",
    "\n",
    "for col in ['white_alone', 'black_alone', 'asian_alone', 'hispanic_latino']:\n",
    "    crime[col] = round(100 * (crime[col] / crime['total_population']), 2)"
   ]
  },
  {
   "cell_type": "code",
   "execution_count": 17,
   "metadata": {},
   "outputs": [],
   "source": [
    "#We now select columns of interest to retain for analysis\n",
    "crime = crime[['community_area', 'block', 'date', 'description', 'district', 'location_description',\n",
    "               'primary_type', 'ward', 'bgid', 'total_population', 'white_alone',\n",
    "               'black_alone', 'asian_alone', 'hispanic_latino', 'median_household_income',\n",
    "               'avg_household_size_owner', 'avg_household_size_renter']]"
   ]
  },
  {
   "cell_type": "code",
   "execution_count": 18,
   "metadata": {},
   "outputs": [],
   "source": [
    "def describe_crime(dataframe, crime, primary_type=False):\n",
    "    '''\n",
    "    Returns the median description of demographic data for\n",
    "    given block groups in 2017, 2018 for a given crime\n",
    "    \n",
    "    Inputs:\n",
    "        dataframe\n",
    "        crime (str)\n",
    "    \n",
    "    Returns:\n",
    "        dataframe\n",
    "    '''\n",
    "    if primary_type:\n",
    "        blocks = dataframe[dataframe.primary_type == crime]\n",
    "    else:\n",
    "        blocks = dataframe[dataframe.description.str.contains(crime)]\n",
    "    \n",
    "    block_groups = blocks.groupby(blocks.date.dt.year).median().T\n",
    "    block_groups.columns.name = \"demographic\"\n",
    "    \n",
    "    return block_groups"
   ]
  },
  {
   "cell_type": "code",
   "execution_count": 19,
   "metadata": {},
   "outputs": [
    {
     "data": {
      "text/html": [
       "<div>\n",
       "<style scoped>\n",
       "    .dataframe tbody tr th:only-of-type {\n",
       "        vertical-align: middle;\n",
       "    }\n",
       "\n",
       "    .dataframe tbody tr th {\n",
       "        vertical-align: top;\n",
       "    }\n",
       "\n",
       "    .dataframe thead th {\n",
       "        text-align: right;\n",
       "    }\n",
       "</style>\n",
       "<table border=\"1\" class=\"dataframe\">\n",
       "  <thead>\n",
       "    <tr style=\"text-align: right;\">\n",
       "      <th>demographic</th>\n",
       "      <th>2017</th>\n",
       "      <th>2018</th>\n",
       "    </tr>\n",
       "  </thead>\n",
       "  <tbody>\n",
       "    <tr>\n",
       "      <th>total_population</th>\n",
       "      <td>1201.00</td>\n",
       "      <td>1206.50</td>\n",
       "    </tr>\n",
       "    <tr>\n",
       "      <th>white_alone</th>\n",
       "      <td>5.65</td>\n",
       "      <td>6.08</td>\n",
       "    </tr>\n",
       "    <tr>\n",
       "      <th>black_alone</th>\n",
       "      <td>88.33</td>\n",
       "      <td>87.83</td>\n",
       "    </tr>\n",
       "    <tr>\n",
       "      <th>asian_alone</th>\n",
       "      <td>0.00</td>\n",
       "      <td>0.00</td>\n",
       "    </tr>\n",
       "    <tr>\n",
       "      <th>hispanic_latino</th>\n",
       "      <td>4.80</td>\n",
       "      <td>4.80</td>\n",
       "    </tr>\n",
       "    <tr>\n",
       "      <th>median_household_income</th>\n",
       "      <td>33750.00</td>\n",
       "      <td>33750.00</td>\n",
       "    </tr>\n",
       "    <tr>\n",
       "      <th>avg_household_size_owner</th>\n",
       "      <td>2.88</td>\n",
       "      <td>2.87</td>\n",
       "    </tr>\n",
       "    <tr>\n",
       "      <th>avg_household_size_renter</th>\n",
       "      <td>2.71</td>\n",
       "      <td>2.70</td>\n",
       "    </tr>\n",
       "  </tbody>\n",
       "</table>\n",
       "</div>"
      ],
      "text/plain": [
       "demographic                    2017      2018\n",
       "total_population            1201.00   1206.50\n",
       "white_alone                    5.65      6.08\n",
       "black_alone                   88.33     87.83\n",
       "asian_alone                    0.00      0.00\n",
       "hispanic_latino                4.80      4.80\n",
       "median_household_income    33750.00  33750.00\n",
       "avg_household_size_owner       2.88      2.87\n",
       "avg_household_size_renter      2.71      2.70"
      ]
     },
     "execution_count": 19,
     "metadata": {},
     "output_type": "execute_result"
    }
   ],
   "source": [
    "'''\n",
    "We observe virtually no change in block groups reporting\n",
    "a \"Battery\" between 2017 and 2018\n",
    "'''\n",
    "describe_crime(crime, \"BATTERY\")"
   ]
  },
  {
   "cell_type": "code",
   "execution_count": 20,
   "metadata": {},
   "outputs": [
    {
     "data": {
      "text/html": [
       "<div>\n",
       "<style scoped>\n",
       "    .dataframe tbody tr th:only-of-type {\n",
       "        vertical-align: middle;\n",
       "    }\n",
       "\n",
       "    .dataframe tbody tr th {\n",
       "        vertical-align: top;\n",
       "    }\n",
       "\n",
       "    .dataframe thead th {\n",
       "        text-align: right;\n",
       "    }\n",
       "</style>\n",
       "<table border=\"1\" class=\"dataframe\">\n",
       "  <thead>\n",
       "    <tr style=\"text-align: right;\">\n",
       "      <th>demographic</th>\n",
       "      <th>2017</th>\n",
       "      <th>2018</th>\n",
       "    </tr>\n",
       "  </thead>\n",
       "  <tbody>\n",
       "    <tr>\n",
       "      <th>total_population</th>\n",
       "      <td>887.500</td>\n",
       "      <td>1517.00</td>\n",
       "    </tr>\n",
       "    <tr>\n",
       "      <th>white_alone</th>\n",
       "      <td>30.700</td>\n",
       "      <td>13.56</td>\n",
       "    </tr>\n",
       "    <tr>\n",
       "      <th>black_alone</th>\n",
       "      <td>30.335</td>\n",
       "      <td>68.34</td>\n",
       "    </tr>\n",
       "    <tr>\n",
       "      <th>asian_alone</th>\n",
       "      <td>4.940</td>\n",
       "      <td>1.12</td>\n",
       "    </tr>\n",
       "    <tr>\n",
       "      <th>hispanic_latino</th>\n",
       "      <td>21.780</td>\n",
       "      <td>12.75</td>\n",
       "    </tr>\n",
       "    <tr>\n",
       "      <th>median_household_income</th>\n",
       "      <td>35528.500</td>\n",
       "      <td>36250.00</td>\n",
       "    </tr>\n",
       "    <tr>\n",
       "      <th>avg_household_size_owner</th>\n",
       "      <td>2.385</td>\n",
       "      <td>3.35</td>\n",
       "    </tr>\n",
       "    <tr>\n",
       "      <th>avg_household_size_renter</th>\n",
       "      <td>2.615</td>\n",
       "      <td>3.18</td>\n",
       "    </tr>\n",
       "  </tbody>\n",
       "</table>\n",
       "</div>"
      ],
      "text/plain": [
       "demographic                     2017      2018\n",
       "total_population             887.500   1517.00\n",
       "white_alone                   30.700     13.56\n",
       "black_alone                   30.335     68.34\n",
       "asian_alone                    4.940      1.12\n",
       "hispanic_latino               21.780     12.75\n",
       "median_household_income    35528.500  36250.00\n",
       "avg_household_size_owner       2.385      3.35\n",
       "avg_household_size_renter      2.615      3.18"
      ]
     },
     "execution_count": 20,
     "metadata": {},
     "output_type": "execute_result"
    }
   ],
   "source": [
    "'''\n",
    "There is a stark difference in block groups reporting a\n",
    "\"Homicide\" between 2017 and 2018. Namely, they are in\n",
    "denser block groups, less white, more black, and less hispanic\n",
    "'''\n",
    "describe_crime(crime, \"HOMICIDE\")"
   ]
  },
  {
   "cell_type": "code",
   "execution_count": 21,
   "metadata": {},
   "outputs": [
    {
     "data": {
      "text/html": [
       "<div>\n",
       "<style scoped>\n",
       "    .dataframe tbody tr th:only-of-type {\n",
       "        vertical-align: middle;\n",
       "    }\n",
       "\n",
       "    .dataframe tbody tr th {\n",
       "        vertical-align: top;\n",
       "    }\n",
       "\n",
       "    .dataframe thead th {\n",
       "        text-align: right;\n",
       "    }\n",
       "</style>\n",
       "<table border=\"1\" class=\"dataframe\">\n",
       "  <thead>\n",
       "    <tr style=\"text-align: right;\">\n",
       "      <th>demographic</th>\n",
       "      <th>2017</th>\n",
       "      <th>2018</th>\n",
       "    </tr>\n",
       "  </thead>\n",
       "  <tbody>\n",
       "    <tr>\n",
       "      <th>total_population</th>\n",
       "      <td>1311.00</td>\n",
       "      <td>1275.00</td>\n",
       "    </tr>\n",
       "    <tr>\n",
       "      <th>white_alone</th>\n",
       "      <td>43.76</td>\n",
       "      <td>48.58</td>\n",
       "    </tr>\n",
       "    <tr>\n",
       "      <th>black_alone</th>\n",
       "      <td>16.07</td>\n",
       "      <td>15.96</td>\n",
       "    </tr>\n",
       "    <tr>\n",
       "      <th>asian_alone</th>\n",
       "      <td>1.02</td>\n",
       "      <td>1.06</td>\n",
       "    </tr>\n",
       "    <tr>\n",
       "      <th>hispanic_latino</th>\n",
       "      <td>10.57</td>\n",
       "      <td>9.91</td>\n",
       "    </tr>\n",
       "    <tr>\n",
       "      <th>median_household_income</th>\n",
       "      <td>40868.00</td>\n",
       "      <td>44634.00</td>\n",
       "    </tr>\n",
       "    <tr>\n",
       "      <th>avg_household_size_owner</th>\n",
       "      <td>2.78</td>\n",
       "      <td>2.68</td>\n",
       "    </tr>\n",
       "    <tr>\n",
       "      <th>avg_household_size_renter</th>\n",
       "      <td>2.53</td>\n",
       "      <td>2.42</td>\n",
       "    </tr>\n",
       "  </tbody>\n",
       "</table>\n",
       "</div>"
      ],
      "text/plain": [
       "demographic                    2017      2018\n",
       "total_population            1311.00   1275.00\n",
       "white_alone                   43.76     48.58\n",
       "black_alone                   16.07     15.96\n",
       "asian_alone                    1.02      1.06\n",
       "hispanic_latino               10.57      9.91\n",
       "median_household_income    40868.00  44634.00\n",
       "avg_household_size_owner       2.78      2.68\n",
       "avg_household_size_renter      2.53      2.42"
      ]
     },
     "execution_count": 21,
     "metadata": {},
     "output_type": "execute_result"
    }
   ],
   "source": [
    "'''\n",
    "When comparing block groups reporting \"Deceptive Practice\" (below)\n",
    "and \"Sex Offense\" we note that block groups reporting\n",
    "\"Deceptive Practice\" are generally whiter, and wealthier,\n",
    "reporting nearly $20,000 more in median household income and\n",
    "a fifteen point increase in whiteness\n",
    "'''\n",
    "describe_crime(crime, \"SEX OFFENSE\", True)"
   ]
  },
  {
   "cell_type": "code",
   "execution_count": 22,
   "metadata": {},
   "outputs": [
    {
     "data": {
      "text/html": [
       "<div>\n",
       "<style scoped>\n",
       "    .dataframe tbody tr th:only-of-type {\n",
       "        vertical-align: middle;\n",
       "    }\n",
       "\n",
       "    .dataframe tbody tr th {\n",
       "        vertical-align: top;\n",
       "    }\n",
       "\n",
       "    .dataframe thead th {\n",
       "        text-align: right;\n",
       "    }\n",
       "</style>\n",
       "<table border=\"1\" class=\"dataframe\">\n",
       "  <thead>\n",
       "    <tr style=\"text-align: right;\">\n",
       "      <th>demographic</th>\n",
       "      <th>2017</th>\n",
       "      <th>2018</th>\n",
       "    </tr>\n",
       "  </thead>\n",
       "  <tbody>\n",
       "    <tr>\n",
       "      <th>total_population</th>\n",
       "      <td>1386.00</td>\n",
       "      <td>1400.00</td>\n",
       "    </tr>\n",
       "    <tr>\n",
       "      <th>white_alone</th>\n",
       "      <td>58.02</td>\n",
       "      <td>57.95</td>\n",
       "    </tr>\n",
       "    <tr>\n",
       "      <th>black_alone</th>\n",
       "      <td>13.16</td>\n",
       "      <td>13.16</td>\n",
       "    </tr>\n",
       "    <tr>\n",
       "      <th>asian_alone</th>\n",
       "      <td>3.37</td>\n",
       "      <td>3.62</td>\n",
       "    </tr>\n",
       "    <tr>\n",
       "      <th>hispanic_latino</th>\n",
       "      <td>8.62</td>\n",
       "      <td>7.97</td>\n",
       "    </tr>\n",
       "    <tr>\n",
       "      <th>median_household_income</th>\n",
       "      <td>58000.00</td>\n",
       "      <td>58819.00</td>\n",
       "    </tr>\n",
       "    <tr>\n",
       "      <th>avg_household_size_owner</th>\n",
       "      <td>2.46</td>\n",
       "      <td>2.43</td>\n",
       "    </tr>\n",
       "    <tr>\n",
       "      <th>avg_household_size_renter</th>\n",
       "      <td>2.15</td>\n",
       "      <td>2.12</td>\n",
       "    </tr>\n",
       "  </tbody>\n",
       "</table>\n",
       "</div>"
      ],
      "text/plain": [
       "demographic                    2017      2018\n",
       "total_population            1386.00   1400.00\n",
       "white_alone                   58.02     57.95\n",
       "black_alone                   13.16     13.16\n",
       "asian_alone                    3.37      3.62\n",
       "hispanic_latino                8.62      7.97\n",
       "median_household_income    58000.00  58819.00\n",
       "avg_household_size_owner       2.46      2.43\n",
       "avg_household_size_renter      2.15      2.12"
      ]
     },
     "execution_count": 22,
     "metadata": {},
     "output_type": "execute_result"
    }
   ],
   "source": [
    "describe_crime(crime, \"DECEPTIVE PRACTICE\", True)"
   ]
  },
  {
   "cell_type": "markdown",
   "metadata": {},
   "source": [
    "# *Analysis and Communication*:"
   ]
  },
  {
   "cell_type": "markdown",
   "metadata": {},
   "source": [
    "We find that crime has generally decreased in Chicago from 2017 to 2018. Crime decreased in 47 of Chicago's 77 neighborhoods, and overall by 0.68%. To make more nuanced statements about crime, one must focus in on a local, neighborhood level. Because different neighborhoods have different demographic traits, the type and amount of crime differs (for example, depending on characteristics such as median income, household size, or education)."
   ]
  },
  {
   "cell_type": "markdown",
   "metadata": {},
   "source": [
    "After analyzing the alderman's statistics, we find that they are largely incorrect. Robberies, burglaries, and motor vehicle theft were all down when compared to the same period in 2017. Although aggravated batteries did have a 5.71% increase, the alderman was incorrect by over 100 percentage points! Similarly, when comparing overall crime year-to-date between 2017 and 2018 there was also a decrease."
   ]
  },
  {
   "cell_type": "code",
   "execution_count": 23,
   "metadata": {},
   "outputs": [],
   "source": [
    "def change_in_period(dataframe, crime, date):\n",
    "    periods = []\n",
    "    for year in ['2017-', '2018-']:\n",
    "        periods.append(dataframe[(dataframe.date.between(year + date[0], year + date[1]))\n",
    "              & (dataframe.primary_type == crime)].shape[0])\n",
    "    \n",
    "    return round(100 * (periods[1] - periods[0]) / periods[0], 2)"
   ]
  },
  {
   "cell_type": "code",
   "execution_count": 24,
   "metadata": {},
   "outputs": [
    {
     "name": "stdout",
     "output_type": "stream",
     "text": [
      "ROBBERY:  -13.25\n",
      "BURGLARY:  -6.13\n",
      "MOTOR VEHICLE THEFT:  -13.64\n"
     ]
    }
   ],
   "source": [
    "for col in [\"ROBBERY\", \"BURGLARY\", \"MOTOR VEHICLE THEFT\"]:\n",
    "    print(col + \": \", change_in_period(crime, col, ['07-01T00:00:00', \"07-26T00:00:00\"]))"
   ]
  },
  {
   "cell_type": "code",
   "execution_count": 25,
   "metadata": {},
   "outputs": [
    {
     "name": "stdout",
     "output_type": "stream",
     "text": [
      "BATTTERY:  5.71\n"
     ]
    }
   ],
   "source": [
    "agg_mask = crime[crime.description.str.contains(\"AGG\")]\n",
    "print(\"BATTTERY: \", change_in_period(agg_mask, \"BATTERY\", ['07-01T00:00:00', \"07-26T00:00:00\"]))"
   ]
  },
  {
   "cell_type": "code",
   "execution_count": 26,
   "metadata": {},
   "outputs": [
    {
     "data": {
      "text/plain": [
       "-1.04"
      ]
     },
     "execution_count": 26,
     "metadata": {},
     "output_type": "execute_result"
    }
   ],
   "source": [
    "ytd_2017 = crime[crime.date.between('2017-01-01T00:00:00', '2017-07-26T00:00:00')].description.agg('count')\n",
    "ytd_2018 = crime[crime.date.between('2018-01-01T00:00:00', '2018-07-26T00:00:00')].description.agg('count')\n",
    "\n",
    "round( 100 * (ytd_2018 - ytd_2017) / ytd_2017, 2)"
   ]
  },
  {
   "cell_type": "markdown",
   "metadata": {},
   "source": [
    "Additionally, the alderman is running a high risk of cherry-picking their statistics to fit an agenda. As we see from the graph below, crime in Chicago is very cyclical. Comparing crime between time periods could potentially misrepresent the actual patterns in the data depending on where each year is in the cycle when compared."
   ]
  },
  {
   "cell_type": "code",
   "execution_count": 27,
   "metadata": {},
   "outputs": [
    {
     "data": {
      "image/png": "[encoded data removed]",
      "text/plain": [
       "<Figure size 864x576 with 1 Axes>"
      ]
     },
     "metadata": {
      "needs_background": "light"
     },
     "output_type": "display_data"
    }
   ],
   "source": [
    "dates = crime[crime.date > '2017-02-01T00:00:00']\n",
    "graph = dates.description\n",
    "graph.index = dates.date\n",
    "\n",
    "plt.figure(figsize=(12,8))\n",
    "graph.resample(\"W-MON\").count().plot()\n",
    "\n",
    "pylab.axvspan('2017-07-01T00:00:00', \"2017-07-26T00:00:00\", facecolor='g', alpha=0.1)\n",
    "pylab.axvspan('2018-07-01T00:00:00', \"2018-07-26T00:00:00\", facecolor='g', alpha=0.1)\n",
    "pylab.show()"
   ]
  },
  {
   "cell_type": "markdown",
   "metadata": {},
   "source": [
    "If we were to provide 5 key findings that could be used to deal with crime in Chicago they would be:\n",
    "\n",
    "1. Identify neighborhoods in need of additional resources. Some neighborhoods such as Austin, Near North Side, and Loop report a disproportionate amount of crimes compared to other neighborhoods.\n",
    "2. Crime in Chicago is very cyclic. It may be possible to optimize resource allocation depending on the time of the year.\n",
    "3. Certain neighborhoods may tend to have different kinds of crimes reported. For example, neighborhoods reporting \"Deceptive Practice\" tend to have a high median household income.\n",
    "4. Nearly 100% of the top crimes in 2017 were the same top crimes of 2018. Therefore, targeting these specific crimes may have large benefits in crime reduction.\n",
    "5. Some crimes do not exhibit stable trends over time (e.g. \"Homocide\") and could potentially be more difficult to target and reduce. More stable crimes such as \"Battery\" may have more systemic roots that can be focused on."
   ]
  },
  {
   "cell_type": "markdown",
   "metadata": {},
   "source": [
    "A few potential caveats of our analysis:\n",
    "- We have only used two years of data (2017, 2018), so it is possible that these results are not representative of a longer time trend\n",
    "- Our data is depedent on the reporting of the Chicago police. Any biases or misrepresentation of reporting will also bias our analysis.\n",
    "    - Notably, our data contains only reported crimes\n",
    "- Just because data is reported from a certain neighborhood does not necessarily imply that the residents of said neighborhood were involved."
   ]
  },
  {
   "cell_type": "markdown",
   "metadata": {},
   "source": [
    "# *Conditional Probabilities:*"
   ]
  },
  {
   "cell_type": "code",
   "execution_count": 28,
   "metadata": {},
   "outputs": [
    {
     "data": {
      "text/plain": [
       "THEFT                               29.43\n",
       "BATTERY                             18.89\n",
       "DECEPTIVE PRACTICE                  11.95\n",
       "CRIMINAL DAMAGE                      8.10\n",
       "OTHER OFFENSE                        7.07\n",
       "ASSAULT                              5.78\n",
       "ROBBERY                              3.86\n",
       "MOTOR VEHICLE THEFT                  3.73\n",
       "CRIMINAL TRESPASS                    3.73\n",
       "BURGLARY                             3.21\n",
       "OFFENSE INVOLVING CHILDREN           0.77\n",
       "SEX OFFENSE                          0.77\n",
       "CRIM SEXUAL ASSAULT                  0.64\n",
       "NARCOTICS                            0.51\n",
       "PUBLIC PEACE VIOLATION               0.51\n",
       "WEAPONS VIOLATION                    0.39\n",
       "INTIMIDATION                         0.26\n",
       "ARSON                                0.13\n",
       "OBSCENITY                            0.13\n",
       "INTERFERENCE WITH PUBLIC OFFICER     0.13\n",
       "Name: primary_type, dtype: float64"
      ]
     },
     "execution_count": 28,
     "metadata": {},
     "output_type": "execute_result"
    }
   ],
   "source": [
    "'''\n",
    "A:\n",
    "\n",
    "By checking the address in the Chicago Open Data Portal we are\n",
    "able to find its block id. We find that 'Theft' is the most likely\n",
    "crime from the given block group encapsulating the address. The\n",
    "probabilities of each crime are given below.\n",
    "\n",
    "'''\n",
    "\n",
    "call_bgid = '170313301004'\n",
    "michigan = crime[crime.bgid == call_bgid].primary_type.value_counts()\n",
    "michigan.apply(lambda x: round(100 * x / michigan.sum(), 2))"
   ]
  },
  {
   "cell_type": "code",
   "execution_count": 29,
   "metadata": {},
   "outputs": [
    {
     "name": "stdout",
     "output_type": "stream",
     "text": [
      "Uptown:  1907\n",
      "Garfield Park:  2475\n",
      "Percentage difference:  0.45 %\n"
     ]
    }
   ],
   "source": [
    "'''\n",
    "B:\n",
    "\n",
    "We see that because there are more calls relating to theft\n",
    "coming from Garfield Park, it is more likely the call came from there\n",
    "than Uptown. However, it is worth noting that there is an East and\n",
    "West Garfield Park, both of which have fewer reports of theft than\n",
    "Uptown. If we were comparing either East or West Garfield Park alone\n",
    "with Uptown, Uptown would have a higher likelihood.\n",
    "\n",
    "We find it is 0.45% more likely for a theft call to come from\n",
    "Garfield Park than Uptown.\n",
    "'''\n",
    "\n",
    "theft = crime[crime.primary_type == 'THEFT']\n",
    "groups = theft.groupby('community_area').description.agg('count')\n",
    "\n",
    "uptown = 100 * groups['UPTOWN'] / groups.sum()\n",
    "garfield = 100 * (groups['EAST GARFIELD PARK'] +\n",
    "                       groups['WEST GARFIELD PARK']) / groups.sum()\n",
    "print(\"Uptown: \", groups['UPTOWN'])\n",
    "print(\"Garfield Park: \", groups['EAST GARFIELD PARK'] +\n",
    "                         groups['WEST GARFIELD PARK'])\n",
    "\n",
    "print(\"Percentage difference: \", round(garfield - uptown, 2), \"%\")"
   ]
  },
  {
   "cell_type": "code",
   "execution_count": 30,
   "metadata": {},
   "outputs": [
    {
     "data": {
      "text/plain": [
       "-23.08"
      ]
     },
     "execution_count": 30,
     "metadata": {},
     "output_type": "execute_result"
    }
   ],
   "source": [
    "'''\n",
    "C:\n",
    "\n",
    "To find the likelihood of a \"Battery\" call coming from Garfield Park\n",
    "or Uptown, we employ Baye's Rule and find that a \"Battery\"\n",
    "call is 23.08% less likely to come from Garfield Park versus Uptown\n",
    "'''\n",
    "\n",
    "garfield_prob = (100 / 600) * (600 / 1000) / (260 / 1000)\n",
    "uptown_prob = (160 / 400) * (400 / 1000) / (260 / 1000)\n",
    "\n",
    "round(100 * (garfield_prob - uptown_prob), 2)"
   ]
  },
  {
   "cell_type": "code",
   "execution_count": null,
   "metadata": {},
   "outputs": [],
   "source": []
  }
 ],
 "metadata": {
  "kernelspec": {
   "display_name": "Python 3",
   "language": "python",
   "name": "python3"
  },
  "language_info": {
   "codemirror_mode": {
    "name": "ipython",
    "version": 3
   },
   "file_extension": ".py",
   "mimetype": "text/x-python",
   "name": "python",
   "nbconvert_exporter": "python",
   "pygments_lexer": "ipython3",
   "version": "3.7.1"
  }
 },
 "nbformat": 4,
 "nbformat_minor": 2
}
